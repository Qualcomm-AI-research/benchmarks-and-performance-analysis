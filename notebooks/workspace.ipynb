{
 "cells": [
  {
   "cell_type": "code",
   "execution_count": 9,
   "metadata": {},
   "outputs": [],
   "source": [
    "import dataclasses \n",
    "from typing import Sequence, Optional, Tuple\n",
    "\n",
    "import jax.numpy as np \n",
    "import jax.random as npr \n",
    "import jax.nn as nn "
   ]
  },
  {
   "cell_type": "code",
   "execution_count": 16,
   "metadata": {},
   "outputs": [],
   "source": [
    "@dataclasses.dataclass \n",
    "class MLPConfig: \n",
    "    layer_sizes: Sequence[int] \n",
    "    init_scale: Optional[float]=1e-2\n",
    "    activation: Optional[callable]=nn.relu\n",
    "    use_bias: Optional[bool]=True\n",
    "\n",
    "class MLP: \n",
    "    def __init__(self, config: MLPConfig): \n",
    "        self.config = config \n",
    "        self.initialize_params()\n",
    "\n",
    "    @property \n",
    "    def params(self) -> Sequence[Tuple[np.ndarray]]: \n",
    "        return self._params\n",
    "\n",
    "    @params.setter \n",
    "    def params(self, new_params: Sequence[Tuple[np.ndarray]]): \n",
    "        self._params = new_params\n",
    "\n",
    "    def initialize_params(self, seed: Optional[int]=0): \n",
    "        self._params = [] \n",
    "        key: np.ndarray = npr.PRNGKey(seed)\n",
    "\n",
    "        for i, j in zip(self.config.layer_sizes[:-1], self.config.layer_sizes[1:]): \n",
    "            weight_key, bias_key, current_key = npr.split(key, 3)\n",
    "            weight = self.config.init_scale * npr.normal(weight_key, shape=(i, j))\n",
    "\n",
    "            if self.config.use_bias: \n",
    "                bias = self.config.init_scale * npr.normal(bias_key, shape=(j,))\n",
    "                self._params.append((weight, bias))\n",
    "            else:\n",
    "                self._params.append((weight,))\n",
    "\n",
    "\n",
    "    def __call__(self, params, x: np.ndarray) -> np.ndarray: \n",
    "        if self.config.use_bias: \n",
    "            weight, bias = params[0]\n",
    "            activation: np.ndarray = weight @ x + bias \n",
    "            for weight, bias in params[1:-1]: \n",
    "                activation = self.config.activation(weight @ x + bias)\n",
    "\n",
    "            weight, bias = params[-1]\n",
    "            return weight @ activation + bias\n",
    "        else: \n",
    "            weight = params[0]\n",
    "            activation: np.ndarray = weight @ x\n",
    "\n",
    "            for weight in params[1:-1]: \n",
    "                activation = self.config.activation(weight @ x)\n",
    "\n",
    "            weight = params[-1]\n",
    "            return weight @ activation "
   ]
  },
  {
   "cell_type": "code",
   "execution_count": null,
   "metadata": {},
   "outputs": [],
   "source": []
  },
  {
   "cell_type": "code",
   "execution_count": 17,
   "metadata": {},
   "outputs": [],
   "source": [
    "config = MLPConfig(\n",
    "    layer_sizes=[1, 4, 4, 1], \n",
    ")\n",
    "mlp = MLP(config)"
   ]
  },
  {
   "cell_type": "code",
   "execution_count": 18,
   "metadata": {},
   "outputs": [
    {
     "data": {
      "text/plain": [
       "[(Array([[ 0.00962801,  0.00155307, -0.00261443,  0.00898887]], dtype=float32),\n",
       "  Array([-0.00368388,  0.00359172,  0.00011448, -0.00124997], dtype=float32)),\n",
       " (Array([[-0.0028582 , -0.000159  , -0.02473603, -0.00186446],\n",
       "         [-0.0065618 , -0.01294555, -0.00973209,  0.00565696],\n",
       "         [ 0.02238912, -0.00535222, -0.00336169,  0.00941552],\n",
       "         [-0.00351734, -0.01040756,  0.00415718,  0.01074744]],      dtype=float32),\n",
       "  Array([-0.00368388,  0.00359172,  0.00011448, -0.00124997], dtype=float32)),\n",
       " (Array([[ 0.00962801],\n",
       "         [ 0.00155307],\n",
       "         [-0.00261443],\n",
       "         [ 0.00898887]], dtype=float32),\n",
       "  Array([0.00578149], dtype=float32))]"
      ]
     },
     "execution_count": 18,
     "metadata": {},
     "output_type": "execute_result"
    }
   ],
   "source": [
    "mlp.params"
   ]
  },
  {
   "cell_type": "code",
   "execution_count": null,
   "metadata": {},
   "outputs": [],
   "source": []
  }
 ],
 "metadata": {
  "kernelspec": {
   "display_name": "Python 3",
   "language": "python",
   "name": "python3"
  },
  "language_info": {
   "codemirror_mode": {
    "name": "ipython",
    "version": 3
   },
   "file_extension": ".py",
   "mimetype": "text/x-python",
   "name": "python",
   "nbconvert_exporter": "python",
   "pygments_lexer": "ipython3",
   "version": "3.10.6"
  },
  "orig_nbformat": 4
 },
 "nbformat": 4,
 "nbformat_minor": 2
}
